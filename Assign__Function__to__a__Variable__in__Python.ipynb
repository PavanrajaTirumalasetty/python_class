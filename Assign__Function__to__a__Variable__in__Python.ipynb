{
  "nbformat": 4,
  "nbformat_minor": 0,
  "metadata": {
    "colab": {
      "provenance": [],
      "authorship_tag": "ABX9TyMrAoIWy9ji1m1ALAuoGLt1",
      "include_colab_link": true
    },
    "kernelspec": {
      "name": "python3",
      "display_name": "Python 3"
    },
    "language_info": {
      "name": "python"
    }
  },
  "cells": [
    {
      "cell_type": "markdown",
      "metadata": {
        "id": "view-in-github",
        "colab_type": "text"
      },
      "source": [
        "<a href=\"https://colab.research.google.com/github/PavanrajaTirumalasetty/python_class/blob/master/Assign__Function__to__a__Variable__in__Python.ipynb\" target=\"_parent\"><img src=\"https://colab.research.google.com/assets/colab-badge.svg\" alt=\"Open In Colab\"/></a>"
      ]
    },
    {
      "cell_type": "code",
      "execution_count": 1,
      "metadata": {
        "colab": {
          "base_uri": "https://localhost:8080/"
        },
        "id": "dWT_7JGYquK1",
        "outputId": "3e19a376-b1c5-4efd-a9ff-dccaca24bc0a"
      },
      "outputs": [
        {
          "output_type": "stream",
          "name": "stdout",
          "text": [
            "GFG\n"
          ]
        }
      ],
      "source": [
        "# defining a function\n",
        "def a():\n",
        "  print(\"GFG\")\n",
        "\n",
        "# assigning function to a variable\n",
        "var=a\n",
        "\n",
        "# calling the variable\n",
        "var()"
      ]
    }
  ]
}