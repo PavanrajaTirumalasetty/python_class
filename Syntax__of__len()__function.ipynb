{
  "nbformat": 4,
  "nbformat_minor": 0,
  "metadata": {
    "colab": {
      "provenance": [],
      "authorship_tag": "ABX9TyOCu7gw5HHBzC6QDg3VdrKP",
      "include_colab_link": true
    },
    "kernelspec": {
      "name": "python3",
      "display_name": "Python 3"
    },
    "language_info": {
      "name": "python"
    }
  },
  "cells": [
    {
      "cell_type": "markdown",
      "metadata": {
        "id": "view-in-github",
        "colab_type": "text"
      },
      "source": [
        "<a href=\"https://colab.research.google.com/github/PavanrajaTirumalasetty/python_class/blob/master/Syntax__of__len()__function.ipynb\" target=\"_parent\"><img src=\"https://colab.research.google.com/assets/colab-badge.svg\" alt=\"Open In Colab\"/></a>"
      ]
    },
    {
      "cell_type": "code",
      "execution_count": 1,
      "metadata": {
        "colab": {
          "base_uri": "https://localhost:8080/"
        },
        "id": "TEc5WjmNaFlI",
        "outputId": "8624d8a4-d349-45fc-f8ab-4d266d296f52"
      },
      "outputs": [
        {
          "output_type": "stream",
          "name": "stdout",
          "text": [
            "4\n",
            "4\n",
            "3\n"
          ]
        }
      ],
      "source": [
        "a = ['geeks', 'for', 'geeks', 2022]\n",
        "print(len(a))  # List length\n",
        "\n",
        "b = (1, 2, 3, 4)\n",
        "print(len(b))  # Tuple length\n",
        "\n",
        "c = {\"name\": \"Alice\", \"age\": 30, \"city\": \"New York\"}\n",
        "print(len(c))  # Dict keys"
      ]
    }
  ]
}