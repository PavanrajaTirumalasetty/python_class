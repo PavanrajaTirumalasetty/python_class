{
  "nbformat": 4,
  "nbformat_minor": 0,
  "metadata": {
    "colab": {
      "provenance": [],
      "authorship_tag": "ABX9TyNpt7u0rc7X4TfJ7vmiJMRe",
      "include_colab_link": true
    },
    "kernelspec": {
      "name": "python3",
      "display_name": "Python 3"
    },
    "language_info": {
      "name": "python"
    }
  },
  "cells": [
    {
      "cell_type": "markdown",
      "metadata": {
        "id": "view-in-github",
        "colab_type": "text"
      },
      "source": [
        "<a href=\"https://colab.research.google.com/github/PavanrajaTirumalasetty/python_class/blob/master/Assigning__Different__Values.ipynb\" target=\"_parent\"><img src=\"https://colab.research.google.com/assets/colab-badge.svg\" alt=\"Open In Colab\"/></a>"
      ]
    },
    {
      "cell_type": "code",
      "execution_count": 1,
      "metadata": {
        "id": "FuvwAG-2a7K6",
        "colab": {
          "base_uri": "https://localhost:8080/"
        },
        "outputId": "86bb6cbb-3266-4ed0-9c5c-68c962e3335b"
      },
      "outputs": [
        {
          "output_type": "stream",
          "name": "stdout",
          "text": [
            "1 2.5 Python\n"
          ]
        }
      ],
      "source": [
        "x, y, z = 1, 2.5, \"Python\"\n",
        "print(x, y, z)"
      ]
    }
  ]
}