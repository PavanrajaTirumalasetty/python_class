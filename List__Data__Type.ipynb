{
  "nbformat": 4,
  "nbformat_minor": 0,
  "metadata": {
    "colab": {
      "provenance": [],
      "authorship_tag": "ABX9TyMFF1KQJG5Lx6czoPpvwvYn",
      "include_colab_link": true
    },
    "kernelspec": {
      "name": "python3",
      "display_name": "Python 3"
    },
    "language_info": {
      "name": "python"
    }
  },
  "cells": [
    {
      "cell_type": "markdown",
      "metadata": {
        "id": "view-in-github",
        "colab_type": "text"
      },
      "source": [
        "<a href=\"https://colab.research.google.com/github/PavanrajaTirumalasetty/python_class/blob/master/List__Data__Type.ipynb\" target=\"_parent\"><img src=\"https://colab.research.google.com/assets/colab-badge.svg\" alt=\"Open In Colab\"/></a>"
      ]
    },
    {
      "cell_type": "code",
      "execution_count": 1,
      "metadata": {
        "id": "eXGXw3_L8r4y",
        "outputId": "f667654b-4ab7-46ab-9029-d97ec0040891",
        "colab": {
          "base_uri": "https://localhost:8080/"
        }
      },
      "outputs": [
        {
          "output_type": "stream",
          "name": "stdout",
          "text": [
            "[1, 2, 3]\n",
            "['Geeks', 'For', 'Geeks', 4, 5]\n"
          ]
        }
      ],
      "source": [
        "# Empty list\n",
        "a = []\n",
        "\n",
        "# list with int values\n",
        "a = [1, 2, 3]\n",
        "print(a)\n",
        "\n",
        "# list with mixed int and string\n",
        "b = [\"Geeks\", \"For\", \"Geeks\", 4, 5]\n",
        "print(b)"
      ]
    }
  ]
}