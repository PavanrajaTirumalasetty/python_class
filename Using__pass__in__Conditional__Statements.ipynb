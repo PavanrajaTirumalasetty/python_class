{
  "nbformat": 4,
  "nbformat_minor": 0,
  "metadata": {
    "colab": {
      "provenance": [],
      "authorship_tag": "ABX9TyPZiyFLrMdstm1nrnFLQ6QB",
      "include_colab_link": true
    },
    "kernelspec": {
      "name": "python3",
      "display_name": "Python 3"
    },
    "language_info": {
      "name": "python"
    }
  },
  "cells": [
    {
      "cell_type": "markdown",
      "metadata": {
        "id": "view-in-github",
        "colab_type": "text"
      },
      "source": [
        "<a href=\"https://colab.research.google.com/github/PavanrajaTirumalasetty/python_class/blob/master/Using__pass__in__Conditional__Statements.ipynb\" target=\"_parent\"><img src=\"https://colab.research.google.com/assets/colab-badge.svg\" alt=\"Open In Colab\"/></a>"
      ]
    },
    {
      "cell_type": "code",
      "execution_count": 1,
      "metadata": {
        "id": "ZPn3NQ7HWdLO"
      },
      "outputs": [],
      "source": [
        "x = 10\n",
        "\n",
        "if x > 5:\n",
        "    pass  # Placeholder for future logic\n",
        "else:\n",
        "    print(\"x is 5 or less\")"
      ]
    }
  ]
}